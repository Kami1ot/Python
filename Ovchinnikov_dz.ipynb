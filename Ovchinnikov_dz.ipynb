{
  "nbformat": 4,
  "nbformat_minor": 0,
  "metadata": {
    "colab": {
      "provenance": []
    },
    "kernelspec": {
      "name": "python3",
      "display_name": "Python 3"
    },
    "language_info": {
      "name": "python"
    }
  },
  "cells": [
    {
      "cell_type": "code",
      "source": [
        "import random                           #Фрукты\n",
        "ids = [i for i in range(100)]\n",
        "AMOUNT = 0\n",
        "\n",
        "class Fruit():\n",
        "    def __init__(self, price):\n",
        "        global AMOUNT\n",
        "        self.price = price\n",
        "        self.ft = 'fruit'\n",
        "        c = random.randint(0,len(ids))\n",
        "        self.id = ids[c]\n",
        "        ids.pop(c)\n",
        "        AMOUNT += 1\n",
        "\n",
        "    def __str__(self):\n",
        "        return f'{self.ft} with id {self.id}, price is {self.price}'\n",
        "\n",
        "    def sell(self):\n",
        "            global AMOUNT\n",
        "            AMOUNT -= 1\n",
        "            print(f'Our earning is {self.price}')\n",
        "\n",
        "    def info(self):\n",
        "        print(str(self))\n",
        "\n",
        "\n",
        "class Banana(Fruit):\n",
        "    def __init__(self, price):\n",
        "        super().__init__(price)\n",
        "        self.ft = 'banana'\n",
        "\n",
        "\n",
        "class Citrus(Fruit):\n",
        "    def __init__(self, price):\n",
        "        super().__init__(price)\n",
        "        self.ft = 'nondefined citrus'\n",
        "\n",
        "\n",
        "class Orange(Citrus):\n",
        "    def __init__(self, price):\n",
        "        super().__init__(price)\n",
        "        self.ft = 'orange'\n",
        "\n",
        "\n",
        "def how_many():\n",
        "    print(f'Amount is {AMOUNT}')\n",
        "\n",
        "\n",
        "\n",
        "fruit1 = Fruit(100)\n",
        "banana = Banana(50)\n",
        "banana2 = Banana(55)\n",
        "banana3 = Banana(40)\n",
        "citrus = Citrus(500)\n",
        "citrus1 = Citrus(1500)\n",
        "orange = Orange(70)\n",
        "orange1 = Orange(77)\n",
        "orange2 = Orange(85)\n",
        "orange3 = Orange(150)\n",
        "\n",
        "lst = [fruit1, banana, banana2, banana3, citrus, citrus1, orange, orange1, orange2, orange3]\n",
        "\n",
        "for el in lst:\n",
        "    el.info()\n",
        "how_many()"
      ],
      "metadata": {
        "id": "Eik-cJDLRIpO"
      },
      "execution_count": null,
      "outputs": []
    },
    {
      "cell_type": "code",
      "source": [
        "for el in lst:\n",
        "    el.sell()\n",
        "how_many()"
      ],
      "metadata": {
        "colab": {
          "base_uri": "https://localhost:8080/"
        },
        "id": "qtrWPbNyRr6a",
        "outputId": "6ce5e495-9044-4a45-d7de-5c0c73038b3d"
      },
      "execution_count": null,
      "outputs": [
        {
          "output_type": "stream",
          "name": "stdout",
          "text": [
            "Our earning is 100\n",
            "Our earning is 50\n",
            "Our earning is 55\n",
            "Our earning is 40\n",
            "Our earning is 500\n",
            "Our earning is 1500\n",
            "Our earning is 70\n",
            "Our earning is 77\n",
            "Our earning is 85\n",
            "Our earning is 150\n",
            "Amount is 0\n"
          ]
        }
      ]
    },
    {
      "cell_type": "code",
      "source": [
        "def mul(a, b):\n",
        "    \"\"\"Multiply a by b\"\"\"\n",
        "    return int(a)*int(b)\n",
        "\n",
        "def div(a, b):\n",
        "    \"\"\"Divide a by b\"\"\"\n",
        "    return int(a) / int(b)\n",
        "\n",
        "def f3(arr):\n",
        "    diction = {}\n",
        "    for f in arr:\n",
        "        diction[f.__doc__.split()[0]] = f\n",
        "    return diction\n",
        "print(f3([mul,div]))"
      ],
      "metadata": {
        "colab": {
          "base_uri": "https://localhost:8080/"
        },
        "id": "hwn9RF7CUMSX",
        "outputId": "47335dee-3ac2-46f7-ed54-cb849efceaf9"
      },
      "execution_count": null,
      "outputs": [
        {
          "output_type": "stream",
          "name": "stdout",
          "text": [
            "{'Multiply': <function mul at 0x7efd7577b790>, 'Divide': <function div at 0x7efd7577bca0>}\n"
          ]
        }
      ]
    },
    {
      "cell_type": "markdown",
      "source": [],
      "metadata": {
        "id": "HWwXwUXpV65z"
      }
    },
    {
      "cell_type": "code",
      "source": [
        "def repl(func_dict):\n",
        "    while True:\n",
        "        user_input = input('> ')\n",
        "        if user_input == 'exit':\n",
        "            break\n",
        "        func_name, *args = user_input.split()\n",
        "        if func_name not in func_dict:\n",
        "            print(f'Function {func_name} not found')\n",
        "            continue\n",
        "        func = func_dict[func_name]\n",
        "        try:\n",
        "            result = func(*args)\n",
        "            print(result)\n",
        "        except Exception as e:\n",
        "            print(f'Error: {e}')\n",
        "repl(f3([mul,div]))"
      ],
      "metadata": {
        "colab": {
          "base_uri": "https://localhost:8080/"
        },
        "id": "a3CAuZnoUMXm",
        "outputId": "7d5d674c-cc0f-4caa-c077-12f60b19c0ed"
      },
      "execution_count": null,
      "outputs": [
        {
          "name": "stdout",
          "output_type": "stream",
          "text": [
            "> Multiply 1 2\n",
            "2\n",
            "> exit\n"
          ]
        }
      ]
    },
    {
      "cell_type": "code",
      "source": [
        "def repl(func_dict):\n",
        "    while True:\n",
        "        user_input = input('> ')\n",
        "        if user_input == 'exit':\n",
        "            break\n",
        "        func_name, *args = user_input.split()\n",
        "        if func_name not in func_dict:\n",
        "            print(f'Function {func_name} not found')\n",
        "            continue\n",
        "        func = func_dict[func_name]\n",
        "        try:\n",
        "            result = func(*args)\n",
        "            print(result)\n",
        "        except Exception as e:\n",
        "            print(f'Error: {e}')\n",
        "function_dict = {'СКЛЕИТЬ': lambda *args: ''.join(args)}\n",
        "repl(function_dict)\n"
      ],
      "metadata": {
        "colab": {
          "base_uri": "https://localhost:8080/"
        },
        "id": "BLVkT5ScUMaJ",
        "outputId": "d8c9367f-0c2e-41fe-9764-510d1b9ca8a6"
      },
      "execution_count": null,
      "outputs": [
        {
          "name": "stdout",
          "output_type": "stream",
          "text": [
            "> СКЛЕИТЬ текст1 текст2 текст3\n",
            "текст1текст2текст3\n",
            "> exit\n"
          ]
        }
      ]
    },
    {
      "cell_type": "code",
      "source": [
        "def repl_named_args(function_dict):\n",
        "    \"\"\"\n",
        "    Запускает REPL для словаря функций, принимающих именованные аргументы.\n",
        "    \"\"\"\n",
        "    print('Для выхода введите \"ВЫХОД\"')\n",
        "    while True:\n",
        "        user_input = input('Введите команду: ')\n",
        "        if user_input == 'ВЫХОД':\n",
        "            print('Выход из REPL...')\n",
        "            break\n",
        "        try:\n",
        "            func_name, *args = user_input.split()\n",
        "            func = function_dict[func_name]\n",
        "        except (KeyError, ValueError):\n",
        "            print('Неверная команда')\n",
        "            continue\n",
        "        kwargs = {}\n",
        "        for arg in args:\n",
        "            try:\n",
        "                key, value = arg.split('=')\n",
        "                kwargs[key] = value\n",
        "            except ValueError:\n",
        "                print('Ошибка ввода аргументов')\n",
        "                break\n",
        "        else:\n",
        "            try:\n",
        "                result = func(**kwargs)\n",
        "                print('Результат:', result)\n",
        "            except TypeError as e:\n",
        "                print('Ошибка ввода аргументов:', e)\n",
        "\n",
        "repl_named_args(f3([mul,div]))"
      ],
      "metadata": {
        "colab": {
          "base_uri": "https://localhost:8080/"
        },
        "id": "WVknryHJUMhe",
        "outputId": "bfbad285-6122-4a19-ec88-8eaa99d6d0bc"
      },
      "execution_count": null,
      "outputs": [
        {
          "output_type": "stream",
          "name": "stdout",
          "text": [
            "Для выхода введите \"ВЫХОД\"\n",
            "Введите команду: Multiply a=2 b=2\n",
            "Результат: 4\n",
            "Введите команду: Выход\n",
            "Неверная команда\n",
            "Введите команду: ВЫХОД\n",
            "Выход из REPL...\n"
          ]
        }
      ]
    },
    {
      "cell_type": "code",
      "source": [
        "def fibonacci_tail(n, a=0, b=1):\n",
        "    if n == 0:\n",
        "        return a\n",
        "    if n == 1:\n",
        "        return b\n",
        "    return fibonacci_tail(n-1, b, a+b)\n",
        "fibonacci_tail(10)"
      ],
      "metadata": {
        "colab": {
          "base_uri": "https://localhost:8080/"
        },
        "id": "Ma-6b1opUMcf",
        "outputId": "76fa65e9-4eec-4e51-9b7f-10c2806f3768"
      },
      "execution_count": null,
      "outputs": [
        {
          "output_type": "execute_result",
          "data": {
            "text/plain": [
              "55"
            ]
          },
          "metadata": {},
          "execution_count": 26
        }
      ]
    },
    {
      "cell_type": "code",
      "source": [
        "class Length:\n",
        "    def __init__(self, value, unit='м'):\n",
        "        self.value = value\n",
        "        self.unit = unit\n",
        "\n",
        "    def __str__(self):\n",
        "        return f\"{self.value} {self.unit}\"\n",
        "\n",
        "    def __repr__(self):\n",
        "        return f\"Length({self.value}, '{self.unit}')\"\n",
        "\n",
        "    def convert(self, unit):\n",
        "        if unit == 'м':\n",
        "            if self.unit == 'см':\n",
        "                self.value /= 100\n",
        "            elif self.unit == 'км':\n",
        "                self.value *= 1000\n",
        "            self.unit = unit\n",
        "        elif unit == 'см':\n",
        "            if self.unit == 'м':\n",
        "                self.value *= 100\n",
        "            elif self.unit == 'км':\n",
        "                self.value *= 100000\n",
        "            self.unit = unit\n",
        "        elif unit == 'км':\n",
        "            if self.unit == 'м':\n",
        "                self.value /= 1000\n",
        "            elif self.unit == 'см':\n",
        "                self.value /= 100000\n",
        "            self.unit = unit\n",
        "        else:\n",
        "            raise ValueError(f\"Недопустимая единица измерения: {unit}\")"
      ],
      "metadata": {
        "id": "6JmwNrAJd2rd"
      },
      "execution_count": null,
      "outputs": []
    },
    {
      "cell_type": "code",
      "source": [
        "length = Length(100, 'см')\n",
        "print(length)\n",
        "\n",
        "length.convert('м')\n",
        "print(length)\n",
        "\n",
        "length.convert('км')\n",
        "print(length)"
      ],
      "metadata": {
        "colab": {
          "base_uri": "https://localhost:8080/"
        },
        "id": "R1AOb45cd20-",
        "outputId": "4cd46d61-a7e4-413a-f8d3-d2d758eb60be"
      },
      "execution_count": null,
      "outputs": [
        {
          "output_type": "stream",
          "name": "stdout",
          "text": [
            "100 см\n",
            "1.0 м\n",
            "0.001 км\n"
          ]
        }
      ]
    },
    {
      "cell_type": "code",
      "source": [
        "class Point:\n",
        "    def __init__(self, x, y):\n",
        "        self.x = x\n",
        "        self.y = y\n",
        "\n",
        "    def __str__(self):\n",
        "        return f\"({self.x}, {self.y})\"\n",
        "\n",
        "    def __repr__(self):\n",
        "        return f\"Point({self.x}, {self.y})\""
      ],
      "metadata": {
        "id": "9lMmZOsAd23l"
      },
      "execution_count": null,
      "outputs": []
    },
    {
      "cell_type": "code",
      "source": [
        "class Rect:\n",
        "    def __init__(self, p1, p2):\n",
        "        self.p1 = p1\n",
        "        self.p2 = p2\n",
        "\n",
        "    def __str__(self):\n",
        "        return f\"Прямоугольник с верхним левым углом {self.p1} и правым нижним углом {self.p2}\"\n",
        "\n",
        "    def __repr__(self):\n",
        "        return f\"Rect({repr(self.p1)}, {repr(self.p2)})\"\n",
        "\n",
        "    def sides(self):\n",
        "        a = abs(self.p2.x - self.p1.x)\n",
        "        b = abs(self.p2.y - self.p1.y)\n",
        "        return a, b\n",
        "\n",
        "    def perim(self):\n",
        "        a, b = self.sides()\n",
        "        return 2 * (a + b)"
      ],
      "metadata": {
        "id": "b6XVwX4bd26N"
      },
      "execution_count": null,
      "outputs": []
    },
    {
      "cell_type": "code",
      "source": [
        "p1 = Point(0, 0)\n",
        "p2 = Point(5, 5)\n",
        "rect = Rect(p1, p2)\n",
        "print(rect)\n",
        "\n",
        "print(rect.sides())\n",
        "\n",
        "print(rect.perim())"
      ],
      "metadata": {
        "colab": {
          "base_uri": "https://localhost:8080/"
        },
        "id": "QnU997rKeSIq",
        "outputId": "2d4b1671-0cd1-45ed-f7b1-443daa2ead98"
      },
      "execution_count": null,
      "outputs": [
        {
          "output_type": "stream",
          "name": "stdout",
          "text": [
            "Прямоугольник с верхним левым углом (0, 0) и правым нижним углом (5, 5)\n",
            "(5, 5)\n",
            "20\n"
          ]
        }
      ]
    }
  ]
}