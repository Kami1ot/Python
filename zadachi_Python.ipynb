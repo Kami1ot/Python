{
  "nbformat": 4,
  "nbformat_minor": 0,
  "metadata": {
    "colab": {
      "provenance": []
    },
    "kernelspec": {
      "name": "python3",
      "display_name": "Python 3"
    },
    "language_info": {
      "name": "python"
    }
  },
  "cells": [
    {
      "cell_type": "markdown",
      "source": [
        "31. Создать декоратор tol(len, fill) с параметрами len и fill. Декоратор\n",
        "превращает результат декорируемой функции в список состоящий из\n",
        "len элементов. Если исходная функция возвращает меньше заданного\n",
        "количества элементов, то оставшиеся места заполняются значениями\n",
        "fill, в случае, если количество возвращаемых элементов больше len, то\n",
        "хвост последовательности отбрасывается. (20 баллов)"
      ],
      "metadata": {
        "id": "T1xGeOLcvV09"
      }
    },
    {
      "cell_type": "code",
      "source": [
        "def tol(len, fill):\n",
        "    def decorator(func):\n",
        "        def wrapper(*args, **kwargs):\n",
        "            result = func(*args, **kwargs)\n",
        "\n",
        "            # Преобразуем результат в список\n",
        "            result_list = list(result)\n",
        "\n",
        "            # Проверяем количество элементов в результате\n",
        "            if len(result_list) < len:\n",
        "                # Заполняем оставшиеся места значениями fill\n",
        "                result_list.extend([fill] * (len - len(result_list)))\n",
        "            elif len(result_list) > len:\n",
        "                # Отбрасываем хвост последовательности\n",
        "                result_list = result_list[:len]\n",
        "\n",
        "            return result_list\n",
        "\n",
        "        return wrapper\n",
        "\n",
        "    return decorator\n",
        "\n",
        "@tol(5, 0)\n",
        "def example_func():\n",
        "    return [1, 2, 3]\n",
        "\n",
        "result = example_func()\n",
        "print(result)  # Вывод: [1, 2, 3, 0, 0]\n"
      ],
      "metadata": {
        "colab": {
          "base_uri": "https://localhost:8080/",
          "height": 349
        },
        "id": "zJZAkqduvVue",
        "outputId": "56443a3b-7daa-4bbd-8d52-896bb1a11186"
      },
      "execution_count": null,
      "outputs": [
        {
          "output_type": "error",
          "ename": "TypeError",
          "evalue": "ignored",
          "traceback": [
            "\u001b[0;31m---------------------------------------------------------------------------\u001b[0m",
            "\u001b[0;31mTypeError\u001b[0m                                 Traceback (most recent call last)",
            "\u001b[0;32m<ipython-input-14-364e6cd3fe77>\u001b[0m in \u001b[0;36m<cell line: 27>\u001b[0;34m()\u001b[0m\n\u001b[1;32m     25\u001b[0m     \u001b[0;32mreturn\u001b[0m \u001b[0;34m[\u001b[0m\u001b[0;36m1\u001b[0m\u001b[0;34m,\u001b[0m \u001b[0;36m2\u001b[0m\u001b[0;34m,\u001b[0m \u001b[0;36m3\u001b[0m\u001b[0;34m]\u001b[0m\u001b[0;34m\u001b[0m\u001b[0;34m\u001b[0m\u001b[0m\n\u001b[1;32m     26\u001b[0m \u001b[0;34m\u001b[0m\u001b[0m\n\u001b[0;32m---> 27\u001b[0;31m \u001b[0mresult\u001b[0m \u001b[0;34m=\u001b[0m \u001b[0mexample_func\u001b[0m\u001b[0;34m(\u001b[0m\u001b[0;34m)\u001b[0m\u001b[0;34m\u001b[0m\u001b[0;34m\u001b[0m\u001b[0m\n\u001b[0m\u001b[1;32m     28\u001b[0m \u001b[0mprint\u001b[0m\u001b[0;34m(\u001b[0m\u001b[0mresult\u001b[0m\u001b[0;34m)\u001b[0m  \u001b[0;31m# Вывод: [1, 2, 3, 0, 0]\u001b[0m\u001b[0;34m\u001b[0m\u001b[0;34m\u001b[0m\u001b[0m\n",
            "\u001b[0;32m<ipython-input-14-364e6cd3fe77>\u001b[0m in \u001b[0;36mwrapper\u001b[0;34m(*args, **kwargs)\u001b[0m\n\u001b[1;32m      8\u001b[0m \u001b[0;34m\u001b[0m\u001b[0m\n\u001b[1;32m      9\u001b[0m             \u001b[0;31m# Проверяем количество элементов в результате\u001b[0m\u001b[0;34m\u001b[0m\u001b[0;34m\u001b[0m\u001b[0m\n\u001b[0;32m---> 10\u001b[0;31m             \u001b[0;32mif\u001b[0m \u001b[0mlen\u001b[0m\u001b[0;34m(\u001b[0m\u001b[0mresult_list\u001b[0m\u001b[0;34m)\u001b[0m \u001b[0;34m<\u001b[0m \u001b[0mlen\u001b[0m\u001b[0;34m:\u001b[0m\u001b[0;34m\u001b[0m\u001b[0;34m\u001b[0m\u001b[0m\n\u001b[0m\u001b[1;32m     11\u001b[0m                 \u001b[0;31m# Заполняем оставшиеся места значениями fill\u001b[0m\u001b[0;34m\u001b[0m\u001b[0;34m\u001b[0m\u001b[0m\n\u001b[1;32m     12\u001b[0m                 \u001b[0mresult_list\u001b[0m\u001b[0;34m.\u001b[0m\u001b[0mextend\u001b[0m\u001b[0;34m(\u001b[0m\u001b[0;34m[\u001b[0m\u001b[0mfill\u001b[0m\u001b[0;34m]\u001b[0m \u001b[0;34m*\u001b[0m \u001b[0;34m(\u001b[0m\u001b[0mlen\u001b[0m \u001b[0;34m-\u001b[0m \u001b[0mlen\u001b[0m\u001b[0;34m(\u001b[0m\u001b[0mresult_list\u001b[0m\u001b[0;34m)\u001b[0m\u001b[0;34m)\u001b[0m\u001b[0;34m)\u001b[0m\u001b[0;34m\u001b[0m\u001b[0;34m\u001b[0m\u001b[0m\n",
            "\u001b[0;31mTypeError\u001b[0m: 'int' object is not callable"
          ]
        }
      ]
    },
    {
      "cell_type": "markdown",
      "source": [
        "32. Реализовать однонаправленный связанный список (реализовать класс\n",
        "для элементов списка). Преобразовать строку &#39;Eeny, meeny, miney, moe;\n",
        "Catch a tiger by his toe.&#39; в связный список символов строки и удалить из\n",
        "него все элементы содержащие гласные буквы. (20 баллов)"
      ],
      "metadata": {
        "id": "hNenSofZu2yK"
      }
    },
    {
      "cell_type": "code",
      "source": [
        "class ListNode:\n",
        "    def __init__(self, value):\n",
        "        self.value = value\n",
        "        self.next = None\n",
        "\n",
        "def create_linked_list(string):\n",
        "    head = None\n",
        "    prev = None\n",
        "\n",
        "    # Проходим по каждому символу в строке\n",
        "    for char in string:\n",
        "        # Проверяем, является ли символ гласной буквой\n",
        "        if char.lower() in ['a', 'e', 'i', 'o', 'u']:\n",
        "            continue  # Пропускаем гласные буквы\n",
        "\n",
        "        # Создаем новый узел списка\n",
        "        node = ListNode(char)\n",
        "\n",
        "        # Если список пустой, устанавливаем голову списка\n",
        "        if head is None:\n",
        "            head = node\n",
        "        # Иначе связываем предыдущий узел с текущим\n",
        "        else:\n",
        "            prev.next = node\n",
        "\n",
        "        # Обновляем предыдущий узел\n",
        "        prev = node\n",
        "\n",
        "    return head\n",
        "\n",
        "def print_linked_list(head):\n",
        "    current = head\n",
        "\n",
        "    # Проходим по каждому узлу в связном списке\n",
        "    while current is not None:\n",
        "        print(current.value, end=' ')\n",
        "        current = current.next\n",
        "\n",
        "# Пример использования\n",
        "string = 'Eeny, meeny, miney, moe; Catch a tiger by his toe.'\n",
        "linked_list = create_linked_list(string)\n",
        "print_linked_list(linked_list)\n"
      ],
      "metadata": {
        "colab": {
          "base_uri": "https://localhost:8080/"
        },
        "id": "GfPS5Tynu2sV",
        "outputId": "4da4d728-ff35-4142-85ad-d157687d9543"
      },
      "execution_count": null,
      "outputs": [
        {
          "output_type": "stream",
          "name": "stdout",
          "text": [
            "n y ,   m n y ,   m n y ,   m ;   C t c h     t g r   b y   h s   t . "
          ]
        }
      ]
    },
    {
      "cell_type": "markdown",
      "source": [
        "33. Создать базовый класс по следующей предметной области. Известны\n",
        "оклад (зарплата) и ставка процента подоходного налога. Определить\n",
        "размер подоходного налога и сумму, получаемую на руки. Исходными\n",
        "данными являются величина оклада (переменная oklad, выражаемая\n",
        "числом) и ставка подоходного налога (переменная procent, выражаемая\n",
        "числом). Размер налога (переменная nalog) определяется как\n",
        "oklad∗procent/100, а сумма, получаемая на руки (переменная summa) —\n",
        "как oklad-nalog. (20 баллов)"
      ],
      "metadata": {
        "id": "D7v01kBLumgd"
      }
    },
    {
      "cell_type": "code",
      "source": [
        "class Salary:\n",
        "    def __init__(self, oklad, procent):\n",
        "        self.oklad = oklad\n",
        "        self.procent = procent\n",
        "\n",
        "    def calculate_tax(self):\n",
        "        nalog = self.oklad * self.procent / 100\n",
        "        return nalog\n",
        "\n",
        "    def calculate_take_home_pay(self):\n",
        "        nalog = self.calculate_tax()\n",
        "        summa = self.oklad - nalog\n",
        "        return summa\n",
        "\n",
        "# Пример использования\n",
        "oklad = 50000\n",
        "procent = 20\n",
        "\n",
        "salary = Salary(oklad, procent)\n",
        "nalog = salary.calculate_tax()\n",
        "summa = salary.calculate_take_home_pay()\n",
        "\n",
        "print(\"Размер подоходного налога:\", nalog)\n",
        "print(\"Сумма, получаемая на руки:\", summa)\n"
      ],
      "metadata": {
        "colab": {
          "base_uri": "https://localhost:8080/"
        },
        "id": "3T5U-HIqumWy",
        "outputId": "916f4875-c8a8-4ac6-99c4-1228f291616b"
      },
      "execution_count": null,
      "outputs": [
        {
          "output_type": "stream",
          "name": "stdout",
          "text": [
            "Размер подоходного налога: 10000.0\n",
            "Сумма, получаемая на руки: 40000.0\n"
          ]
        }
      ]
    },
    {
      "cell_type": "markdown",
      "source": [
        "34. Вывести по убыванию количество всех предыдущих ремонтов машин\n",
        "&quot;Жигули&quot;. Осуществить алгоритм сортировки слиянием. (20 баллов)"
      ],
      "metadata": {
        "id": "YUEvM4wtuUsc"
      }
    },
    {
      "cell_type": "code",
      "source": [
        "def merge_sort(arr):\n",
        "    if len(arr) <= 1:\n",
        "        return arr\n",
        "\n",
        "    mid = len(arr) // 2\n",
        "    left = arr[:mid]\n",
        "    right = arr[mid:]\n",
        "\n",
        "    left = merge_sort(left)\n",
        "    right = merge_sort(right)\n",
        "\n",
        "    return merge(left, right)\n",
        "\n",
        "def merge(left, right):\n",
        "    result = []\n",
        "    i = 0\n",
        "    j = 0\n",
        "\n",
        "    while i < len(left) and j < len(right):\n",
        "        if left[i] > right[j]:\n",
        "            result.append(left[i])\n",
        "            i += 1\n",
        "        else:\n",
        "            result.append(right[j])\n",
        "            j += 1\n",
        "\n",
        "    while i < len(left):\n",
        "        result.append(left[i])\n",
        "        i += 1\n",
        "\n",
        "    while j < len(right):\n",
        "        result.append(right[j])\n",
        "        j += 1\n",
        "\n",
        "    return result\n",
        "\n",
        "ремонты = [3, 2, 5, 1, 4]\n",
        "отсортированные_ремонты = merge_sort(ремонты)\n",
        "\n",
        "print(\"Отсортированные ремонты по убыванию:\")\n",
        "for ремонт in отсортированные_ремонты:\n",
        "    print(ремонт)\n"
      ],
      "metadata": {
        "colab": {
          "base_uri": "https://localhost:8080/"
        },
        "id": "tNpiDZoJuUmN",
        "outputId": "7fae625b-30c7-4749-9cfa-000700457d7e"
      },
      "execution_count": null,
      "outputs": [
        {
          "output_type": "stream",
          "name": "stdout",
          "text": [
            "Отсортированные ремонты по убыванию:\n",
            "5\n",
            "4\n",
            "3\n",
            "2\n",
            "1\n"
          ]
        }
      ]
    },
    {
      "cell_type": "markdown",
      "source": [
        "35. Описать рекурсивные функции Fact(N) и Fact2(N) вещественного типа,\n",
        "вычисляющие значения факториала N! и двойного факториала N!!\n",
        "соответственно (N &gt; 0 — параметр целого типа). (20 баллов)"
      ],
      "metadata": {
        "id": "krevRkTOuCAU"
      }
    },
    {
      "cell_type": "code",
      "source": [
        "def Fact(N):\n",
        "    if N == 0 or N == 1:\n",
        "        return 1\n",
        "    else:\n",
        "        return N * Fact(N - 1)\n",
        "\n",
        "def Fact2(N):\n",
        "    if N == 0 or N == 1:\n",
        "        return 1\n",
        "    else:\n",
        "        return N * Fact2(N - 2)\n",
        "\n",
        "N = 5\n",
        "print(\"Факториал\", N, \"! =\", Fact(N))\n",
        "print(\"Двойной факториал\", N, \"!! =\", Fact2(N))\n"
      ],
      "metadata": {
        "colab": {
          "base_uri": "https://localhost:8080/"
        },
        "id": "ty20qDl3uB5V",
        "outputId": "24428dc9-de1c-4f26-a175-310ec8903c3e"
      },
      "execution_count": null,
      "outputs": [
        {
          "output_type": "stream",
          "name": "stdout",
          "text": [
            "Факториал 5 ! = 120\n",
            "Двойной факториал 5 !! = 15\n"
          ]
        }
      ]
    },
    {
      "cell_type": "markdown",
      "source": [
        "36. Дан однонаправленный связный список. Удалить каждый второй\n",
        "элемент списка. (20 баллов)"
      ],
      "metadata": {
        "id": "eiJlvEowt0gC"
      }
    },
    {
      "cell_type": "code",
      "source": [
        "class Node:\n",
        "    def __init__(self, data):\n",
        "        self.data = data\n",
        "        self.next = None\n",
        "\n",
        "\n",
        "def delete_every_second_node(head):\n",
        "    if not head:\n",
        "        return None\n",
        "\n",
        "    current = head\n",
        "    while current and current.next:\n",
        "        current.next = current.next.next\n",
        "        current = current.next\n",
        "\n",
        "    return head\n",
        "\n",
        "# Создаем связный список: 1 -> 2 -> 3 -> 4 -> 5\n",
        "head = Node(1)\n",
        "node2 = Node(2)\n",
        "node3 = Node(3)\n",
        "node4 = Node(4)\n",
        "node5 = Node(5)\n",
        "head.next = node2\n",
        "node2.next = node3\n",
        "node3.next = node4\n",
        "node4.next = node5\n",
        "\n",
        "# Удаляем каждый второй элемент\n",
        "new_head = delete_every_second_node(head)\n",
        "\n",
        "# Выводим элементы связного списка после удаления\n",
        "current = new_head\n",
        "while current:\n",
        "    print(current.data)\n",
        "    current = current.next\n"
      ],
      "metadata": {
        "colab": {
          "base_uri": "https://localhost:8080/"
        },
        "id": "4Uul1xySt0Z-",
        "outputId": "c6fecc48-5dbe-46ba-cd43-88733ffdc2e1"
      },
      "execution_count": null,
      "outputs": [
        {
          "output_type": "stream",
          "name": "stdout",
          "text": [
            "1\n",
            "3\n",
            "5\n"
          ]
        }
      ]
    },
    {
      "cell_type": "markdown",
      "source": [
        "37. Создать иерархию классов для фруктов, продающихся в магазине.\n",
        "Иерархия должна содержать не менее 3 классов. Объекты должны\n",
        "содержать не менее 3-х атрибутов. Часть атрибутов должна быть\n",
        "защищена от изменения. Необходимо заполнить список\n",
        "представителями всех классов (всего 5 объектов) и\n",
        "продемонстрировать созданную защиту. (20 баллов)"
      ],
      "metadata": {
        "id": "yt6imKk7tctf"
      }
    },
    {
      "cell_type": "code",
      "source": [
        "class Fruit:\n",
        "    def __init__(self, name, color, price):\n",
        "        self._name = name\n",
        "        self._color = color\n",
        "        self._price = price\n",
        "\n",
        "    def get_name(self):\n",
        "        return self._name\n",
        "\n",
        "    def get_color(self):\n",
        "        return self._color\n",
        "\n",
        "    def get_price(self):\n",
        "        return self._price\n",
        "\n",
        "\n",
        "class CitrusFruit(Fruit):\n",
        "    def __init__(self, name, color, price, acidity):\n",
        "        super().__init__(name, color, price)\n",
        "        self._acidity = acidity\n",
        "\n",
        "    def get_acidity(self):\n",
        "        return self._acidity\n",
        "\n",
        "\n",
        "class Apple(Fruit):\n",
        "    def __init__(self, name, color, price, variety):\n",
        "        super().__init__(name, color, price)\n",
        "        self._variety = variety\n",
        "\n",
        "    def get_variety(self):\n",
        "        return self._variety\n",
        "\n",
        "\n",
        "# Создание объектов\n",
        "orange = CitrusFruit(\"Orange\", \"Orange\", 2.99, \"High\")\n",
        "lemon = CitrusFruit(\"Lemon\", \"Yellow\", 1.99, \"Medium\")\n",
        "apple = Apple(\"Apple\", \"Red\", 0.99, \"Gala\")\n",
        "banana = Fruit(\"Banana\", \"Yellow\", 0.49)\n",
        "pear = Fruit(\"Pear\", \"Green\", 1.49)\n",
        "\n",
        "# Доступ к атрибутам объектов\n",
        "print(orange.get_name())     # \"Orange\"\n",
        "print(orange.get_color())    # \"Orange\"\n",
        "print(orange.get_price())    # 2.99\n",
        "print(orange.get_acidity())  # \"High\"\n",
        "\n",
        "# Попытка изменить защищенные атрибуты\n",
        "orange._price = 4.99         # Можно изменить, но не рекомендуется\n",
        "orange._acidity = \"Very high\"  # Можно изменить, но не рекомендуется\n",
        "\n",
        "# Доступ к атрибутам, защищенным от изменений\n",
        "print(orange.get_price())    # 2.99\n",
        "print(orange.get_acidity())  # \"High\"\n"
      ],
      "metadata": {
        "colab": {
          "base_uri": "https://localhost:8080/"
        },
        "id": "i98ecLPCtcng",
        "outputId": "7d28cc2a-2874-4214-a964-63f99aa8ac8b"
      },
      "execution_count": null,
      "outputs": [
        {
          "output_type": "stream",
          "name": "stdout",
          "text": [
            "Orange\n",
            "Orange\n",
            "2.99\n",
            "High\n",
            "4.99\n",
            "Very high\n"
          ]
        }
      ]
    },
    {
      "cell_type": "markdown",
      "source": [
        "38. Расположить по алфавиту имена владельцев и, соответственно,\n",
        "вывести информацию об их машинах. Использовать алгоритм\n",
        "сортировки выбором. (20 баллов)"
      ],
      "metadata": {
        "id": "6IJRVDTvtLgt"
      }
    },
    {
      "cell_type": "code",
      "source": [
        "def selection_sort(names, cars):\n",
        "    for i in range(len(names)):\n",
        "        min_idx = i\n",
        "        for j in range(i+1, len(names)):\n",
        "            if names[j] < names[min_idx]:\n",
        "                min_idx = j\n",
        "        names[i], names[min_idx] = names[min_idx], names[i]\n",
        "        cars[i], cars[min_idx] = cars[min_idx], cars[i]\n",
        "\n",
        "# Пример данных\n",
        "names = [\"John\", \"Alice\", \"Bob\", \"David\"]\n",
        "cars = [\"Toyota\", \"Ford\", \"BMW\", \"Honda\"]\n",
        "\n",
        "# Сортировка по алфавиту\n",
        "selection_sort(names, cars)\n",
        "\n",
        "# Вывод информации об именах и их машинах\n",
        "for i in range(len(names)):\n",
        "    print(f\"Имя владельца: {names[i]}\\t Машина: {cars[i]}\")\n"
      ],
      "metadata": {
        "id": "FSPK-Ru0tLae"
      },
      "execution_count": null,
      "outputs": []
    },
    {
      "cell_type": "markdown",
      "source": [
        "39. Описать рекурсивную функцию Root (а, b, ε), которая методом деления\n",
        "отрезка пополам находит с точностью ε корень уравнения f(x) = 0 на\n",
        "отрезке [а, b] (считать, что ε &gt; 0, а &lt; b, f(a) – f(b) &lt; 0 и f(x) —\n",
        "непрерывная и монотонная на отрезке [а, b] функция). (20 баллов)"
      ],
      "metadata": {
        "id": "Y0p46bu3sqc8"
      }
    },
    {
      "cell_type": "code",
      "source": [
        "\n",
        "def Root(a, b, ε):\n",
        "    if abs(b - a) < ε:\n",
        "        return (a + b) / 2\n",
        "\n",
        "    c = (a + b) / 2\n",
        "    if 0 < 0:\n",
        "        return Root(a, c, ε)\n",
        "    else:\n",
        "        return Root(c, b, ε)\n",
        "\n",
        "# Пример использования:\n",
        "a = 0\n",
        "b = 1\n",
        "ε = 0.0001\n",
        "\n",
        "root = Root(a, b, ε)\n",
        "print(\"Корень уравнения f(x) = 0:\", root)\n"
      ],
      "metadata": {
        "colab": {
          "base_uri": "https://localhost:8080/"
        },
        "id": "sgE53lJysqWz",
        "outputId": "11c1be0b-1669-4694-ac3b-54c18b5e3ba8"
      },
      "execution_count": null,
      "outputs": [
        {
          "output_type": "stream",
          "name": "stdout",
          "text": [
            "Корень уравнения f(x) = 0: 0.999969482421875\n"
          ]
        }
      ]
    },
    {
      "cell_type": "markdown",
      "source": [
        "40. Дан одномерный массив целых чисел размерности n, заданных\n",
        "случайным образом из интервала от -20 до 20. Если сумма\n",
        "отрицательных элементов по модулю превышает сумму\n",
        "положительных, то отсортировать массив по возрастанию, иначе – по\n",
        "убыванию. Реализовать сортировку алгоритмом сортировки выбором.\n",
        "(20 баллов)"
      ],
      "metadata": {
        "id": "pIbmOjEBr-_K"
      }
    },
    {
      "cell_type": "code",
      "source": [
        "import random\n",
        "\n",
        "def selection_sort(arr):\n",
        "    for i in range(len(arr)):\n",
        "        min_idx = i\n",
        "        for j in range(i+1, len(arr)):\n",
        "            if arr[j] < arr[min_idx]:\n",
        "                min_idx = j\n",
        "        arr[i], arr[min_idx] = arr[min_idx], arr[i]\n",
        "\n",
        "def sort_array(array):\n",
        "    sum_negative = sum(abs(num) for num in array if num < 0)\n",
        "    sum_positive = sum(num for num in array if num > 0)\n",
        "    if sum_negative > sum_positive:\n",
        "        selection_sort(array)\n",
        "    else:\n",
        "        selection_sort(array)\n",
        "        array.reverse()\n",
        "\n",
        "# Пример использования:\n",
        "n = 10\n",
        "array = [random.randint(-20, 20) for _ in range(n)]\n",
        "print(\"Исходный массив:\", array)\n",
        "sort_array(array)\n",
        "print(\"Отсортированный массив:\", array)\n"
      ],
      "metadata": {
        "colab": {
          "base_uri": "https://localhost:8080/"
        },
        "id": "3nMAJlTer-4u",
        "outputId": "1ac1634e-0d03-4256-827d-b4b3d1728d20"
      },
      "execution_count": null,
      "outputs": [
        {
          "output_type": "stream",
          "name": "stdout",
          "text": [
            "Исходный массив: [-15, -12, -19, -15, -8, 10, 20, 6, -12, 7]\n",
            "Отсортированный массив: [-19, -15, -15, -12, -12, -8, 6, 7, 10, 20]\n"
          ]
        }
      ]
    },
    {
      "cell_type": "markdown",
      "source": [
        "41. Создать декоратор dec(a, b) с параметрами a и b. Декоратор\n",
        "увеличивает результат декорируемой функции, которая вычисляет\n",
        "сумму произвольного количества чисел, на «a» элементов при условии\n",
        "положительного значения суммы. Если исходная функция возвращает\n",
        "отрицательное значение суммы, то декоратор уменьшает результат\n",
        "декорируемой функции на значение «b». (20 баллов)"
      ],
      "metadata": {
        "id": "hmOGPcYDrZAh"
      }
    },
    {
      "cell_type": "code",
      "source": [
        "def dec(a, b):\n",
        "    def decorator(func):\n",
        "        def wrapper(*args, **kwargs):\n",
        "            result = func(*args, **kwargs)\n",
        "            if result >= 0:\n",
        "                result += a\n",
        "            else:\n",
        "                result -= b\n",
        "            return result\n",
        "        return wrapper\n",
        "    return decorator\n",
        "\n",
        "# Пример использования:\n",
        "@dec(a=5, b=3)\n",
        "def sum_numbers(*args):\n",
        "    return sum(args)\n",
        "\n",
        "result1 = sum_numbers(1, 2, 3)  # Положительная сумма\n",
        "result2 = sum_numbers(-1, -2, -3)  # Отрицательная сумма\n",
        "\n",
        "print(\"Результат 1:\", result1)  # Увеличено на 5\n",
        "print(\"Результат 2:\", result2)  # Уменьшено на 3"
      ],
      "metadata": {
        "colab": {
          "base_uri": "https://localhost:8080/"
        },
        "id": "XzMt6gHPrY6O",
        "outputId": "b78787db-304b-4e0f-9150-d35299f3fab5"
      },
      "execution_count": null,
      "outputs": [
        {
          "output_type": "stream",
          "name": "stdout",
          "text": [
            "Результат 1: 11\n",
            "Результат 2: -9\n"
          ]
        }
      ]
    },
    {
      "cell_type": "markdown",
      "source": [
        "42. Дан одномерный массив целых чисел размерности n, заданных\n",
        "случайным образом из интервала от -20 до 20. Если в массиве есть\n",
        "отрицательные элементы, то отсортировать массив по возрастанию,\n",
        "иначе - по убыванию. Реализовать сортировку алгоритмом сортировки\n",
        "вставками. (20 баллов)."
      ],
      "metadata": {
        "id": "yehCQ087cKH2"
      }
    },
    {
      "cell_type": "code",
      "source": [
        "import random\n",
        "\n",
        "def insertion_sort(arr):\n",
        "    for i in range(1, len(arr)):\n",
        "        key = arr[i]\n",
        "        j = i - 1\n",
        "        while j >= 0 and arr[j] > key:\n",
        "            arr[j + 1] = arr[j]\n",
        "            j -= 1\n",
        "        arr[j + 1] = key\n",
        "\n",
        "def sort_array(array):\n",
        "    has_negative = any(num < 0 for num in array)\n",
        "    if has_negative:\n",
        "        insertion_sort(array)\n",
        "    else:\n",
        "        insertion_sort(array)\n",
        "        array.reverse()\n",
        "\n",
        "# Пример использования:\n",
        "n = 10\n",
        "array = [random.randint(-20, 20) for _ in range(n)]\n",
        "print(\"Исходный массив:\", array)\n",
        "sort_array(array)\n",
        "print(\"Отсортированный массив:\", array)"
      ],
      "metadata": {
        "id": "ARrA9UUMcJ6n",
        "colab": {
          "base_uri": "https://localhost:8080/"
        },
        "outputId": "5f8e8ec6-303c-4abf-e98f-ea838f060b80"
      },
      "execution_count": null,
      "outputs": [
        {
          "output_type": "stream",
          "name": "stdout",
          "text": [
            "Исходный массив: [-7, 16, -15, -19, 11, -20, 10, 6, 18, 15]\n",
            "Отсортированный массив: [-20, -19, -15, -7, 6, 10, 11, 15, 16, 18]\n"
          ]
        }
      ]
    },
    {
      "cell_type": "markdown",
      "source": [
        "43. Дан список целых чисел. При помощи механизма map/filter/reduce\n",
        "рассчитать остаток от деления на 7 для каждого из чисел списка и\n",
        "получить произведение тех остатков, величина которых больше 4. (20\n",
        "баллов)"
      ],
      "metadata": {
        "id": "9D4Oyewzakc8"
      }
    },
    {
      "cell_type": "code",
      "source": [
        "from functools import reduce\n",
        "\n",
        "def calculate_remainder(nums):\n",
        "    remainder_list = list(map(lambda x: x % 7, nums))\n",
        "    print (remainder_list)\n",
        "    filtered_remainders = list(filter(lambda x: x > 4, remainder_list))\n",
        "    print(filtered_remainders)\n",
        "    if len(filtered_remainders) == 0:\n",
        "      return 0\n",
        "    else:\n",
        "      a = 1\n",
        "\n",
        "    for i in filtered_remainders:\n",
        "      a*=i\n",
        "    return a\n",
        "\n",
        "# Пример использования:\n",
        "\n",
        "numbers = [12, 21, 14, 35, 28, 42, 7]\n",
        "product = calculate_remainder(numbers)\n",
        "print(\"Произведение остатков, величина которых больше 4:\", product)\n"
      ],
      "metadata": {
        "colab": {
          "base_uri": "https://localhost:8080/"
        },
        "id": "LwssAARCakOp",
        "outputId": "7f1dce60-89db-4561-839d-e714aca7ee6b"
      },
      "execution_count": null,
      "outputs": [
        {
          "output_type": "stream",
          "name": "stdout",
          "text": [
            "[5, 0, 0, 0, 0, 0, 0]\n",
            "[5]\n",
            "Произведение остатков, величина которых больше 4: 5\n"
          ]
        }
      ]
    },
    {
      "cell_type": "markdown",
      "source": [
        "44. Дан одномерный массив целых чисел размерности n, заданных\n",
        "случайным образом из интервала от 0 до 100. Если количество четных\n",
        "элементов, стоящих на нечетных местах, превышает количество\n",
        "нечетных элементов, стоящих на четных местах, то отсортировать\n",
        "массив по возрастанию, иначе по убыванию. Реализовать алгоритм\n",
        "сортировки слиянием. (20 баллов)"
      ],
      "metadata": {
        "id": "NnDeCyC9ZkNy"
      }
    },
    {
      "cell_type": "code",
      "source": [
        "import random\n",
        "def merge_sort(arr):\n",
        "    if len(arr) <= 1:\n",
        "        return arr\n",
        "    mid = len(arr) // 2\n",
        "    left_half = merge_sort(arr[:mid])\n",
        "    right_half = merge_sort(arr[mid:])\n",
        "    return merge(left_half, right_half)\n",
        "\n",
        "def merge(left, right):\n",
        "    result = []\n",
        "    i = j = 0\n",
        "    while i < len(left) and j < len(right):\n",
        "        if left[i] <= right[j]:\n",
        "            result.append(left[i])\n",
        "            i += 1\n",
        "        else:\n",
        "            result.append(right[j])\n",
        "            j += 1\n",
        "    while i < len(left):\n",
        "        result.append(left[i])\n",
        "        i += 1\n",
        "    while j < len(right):\n",
        "        result.append(right[j])\n",
        "        j += 1\n",
        "    return result\n",
        "\n",
        "def sort_array(arr):\n",
        "    even_odd_count = 0\n",
        "    for i, num in enumerate(arr):\n",
        "        if i % 2 == 0 and num % 2 == 0:\n",
        "            even_odd_count += 1\n",
        "        elif i % 2 == 1 and num % 2 == 1:\n",
        "            even_odd_count -= 1\n",
        "    if even_odd_count > 0:\n",
        "        return merge_sort(arr)\n",
        "    else:\n",
        "        return merge_sort(arr)[::-1]\n",
        "\n",
        "# Пример использования:\n",
        "\n",
        "array = []\n",
        "n = int(input())\n",
        "for i in range (n):\n",
        "  array.append(random.randint(0,100))\n",
        "sorted_array = sort_array(array)\n",
        "print(\"Отсортированный массив:\", sorted_array)\n"
      ],
      "metadata": {
        "colab": {
          "base_uri": "https://localhost:8080/"
        },
        "id": "_T-SIb98Zj_l",
        "outputId": "598e06f4-e0cc-4278-e408-d3b70a2a29cc"
      },
      "execution_count": null,
      "outputs": [
        {
          "output_type": "stream",
          "name": "stdout",
          "text": [
            "10\n",
            "Отсортированный массив: [100, 96, 95, 94, 51, 49, 47, 46, 41, 17]\n"
          ]
        }
      ]
    },
    {
      "cell_type": "markdown",
      "source": [
        "45. Реализовать декоратор с именем not_sum, который генерирует\n",
        "исключительную ситуацию, если декорируемая функция вернула\n",
        "отрицательное значение суммы трех чисел. (20 баллов)"
      ],
      "metadata": {
        "id": "tp3Ztph0ZMl3"
      }
    },
    {
      "cell_type": "code",
      "source": [
        "def not_sum(func):\n",
        "    def wrapper(*args):\n",
        "        result = func(*args)\n",
        "        if sum(result) < 0:\n",
        "            raise Exception(\"Сумма трех чисел отрицательна\")\n",
        "        return result\n",
        "    return wrapper\n",
        "\n",
        "@not_sum\n",
        "def calculate_sum(a, b, c):\n",
        "    return [a, b, c]\n",
        "\n",
        "# Пример использования:\n",
        "\n",
        "try:\n",
        "    result = calculate_sum(-2, -2, 3)\n",
        "    print(\"Результат:\", result)\n",
        "except Exception as e:\n",
        "    print(\"Исключительная ситуация:\", e)\n"
      ],
      "metadata": {
        "colab": {
          "base_uri": "https://localhost:8080/"
        },
        "id": "aG3wKmPBZMaP",
        "outputId": "cf30f54f-e107-4e00-c2e5-870cb8c38bc8"
      },
      "execution_count": null,
      "outputs": [
        {
          "output_type": "stream",
          "name": "stdout",
          "text": [
            "Исключительная ситуация: Сумма трех чисел отрицательна\n"
          ]
        }
      ]
    },
    {
      "cell_type": "markdown",
      "source": [
        "46. Дано два однонаправленных связных списка. Создать список,\n",
        "содержащий элементы общие для двух списков. (20 баллов)"
      ],
      "metadata": {
        "id": "0wST4XWbYhYs"
      }
    },
    {
      "cell_type": "code",
      "source": [
        "class ListNode:\n",
        "    def __init__(self, value):\n",
        "        self.val = value\n",
        "        self.next = None\n",
        "\n",
        "def get_common_elements(head1, head2):\n",
        "    common_elements = []\n",
        "    curr1 = head1\n",
        "    while curr1:\n",
        "        curr2 = head2\n",
        "        while curr2:\n",
        "            if curr1.val == curr2.val:\n",
        "                common_elements.append(curr1.val)\n",
        "                break\n",
        "            curr2 = curr2.next\n",
        "        curr1 = curr1.next\n",
        "    return common_elements\n",
        "\n",
        "# Пример использования:\n",
        "\n",
        "# Создание первого списка: 1 -> 2 -> 3 -> 4 -> 5\n",
        "head1 = ListNode(1)\n",
        "head1.next = ListNode(2)\n",
        "head1.next.next = ListNode(3)\n",
        "head1.next.next.next = ListNode(4)\n",
        "head1.next.next.next.next = ListNode(5)\n",
        "\n",
        "# Создание второго списка: 3 -> 4 -> 5 -> 6 -> 7\n",
        "head2 = ListNode(3)\n",
        "head2.next = ListNode(4)\n",
        "head2.next.next = ListNode(5)\n",
        "head2.next.next.next = ListNode(6)\n",
        "head2.next.next.next.next = ListNode(7)\n",
        "\n",
        "# Получение списка с общими элементами\n",
        "common_elements = get_common_elements(head1, head2)\n",
        "\n",
        "# Вывод общих элементов\n",
        "print(\"Общие элементы:\", common_elements)\n"
      ],
      "metadata": {
        "colab": {
          "base_uri": "https://localhost:8080/"
        },
        "id": "THfuuyKfYhNb",
        "outputId": "b538bf69-cdd1-4d9b-f1bc-a0340a42a8ff"
      },
      "execution_count": null,
      "outputs": [
        {
          "output_type": "stream",
          "name": "stdout",
          "text": [
            "Общие элементы: [3, 4, 5]\n"
          ]
        }
      ]
    },
    {
      "cell_type": "markdown",
      "source": [
        "47. Дан список целых чисел. При помощи механизма map/filter/reduce\n",
        "рассчитать остаток от деления на 17 для каждого из чисел списка и\n",
        "получить произведение тех остатков, величина которых меньше 7. (20\n",
        "баллов)"
      ],
      "metadata": {
        "id": "pMqO2PliUzWe"
      }
    },
    {
      "cell_type": "code",
      "source": [
        "from functools import reduce\n",
        "\n",
        "def calculate_remainder_product(numbers):\n",
        "    remainders = list(map(lambda x: x % 17, numbers))\n",
        "    print (remainders)\n",
        "    filtered_remainders = list(filter(lambda x: x < 7, remainders))\n",
        "    print (filtered_remainders)\n",
        "    a = 1\n",
        "    for i in filtered_remainders:\n",
        "      a*=i\n",
        "    return a\n",
        "\n",
        "\n",
        "# Пример использования\n",
        "numbers = [35, 54, 19, 12, 8, 26]\n",
        "product_of_remainders = calculate_remainder_product(numbers)\n",
        "print(\"Произведение остатков, величина которых меньше 7:\", product_of_remainders)\n"
      ],
      "metadata": {
        "colab": {
          "base_uri": "https://localhost:8080/"
        },
        "id": "1YAJcKblUzKM",
        "outputId": "bb4931e3-ae8f-482f-9f20-1f74e0b8a419"
      },
      "execution_count": null,
      "outputs": [
        {
          "output_type": "stream",
          "name": "stdout",
          "text": [
            "[1, 3, 2, 12, 8, 9]\n",
            "[1, 3, 2]\n",
            "Произведение остатков, величина которых меньше 7: 6\n"
          ]
        }
      ]
    },
    {
      "cell_type": "markdown",
      "source": [
        "48. Создать класс Профиль местности, который хранит\n",
        "последовательность высот, вычисленных через равные промежутки по\n",
        "горизонтали. Методы: наибольшая высота, наименьшая высота,\n",
        "перепад высот (наибольший, суммарный), крутизна (тангенс угла\n",
        "наклона; наибольшая, средняя), сравнение двух профилей одинаковой\n",
        "длины (по перепаду, по крутизне). (20 баллов)"
      ],
      "metadata": {
        "id": "1ODDocLMUIG_"
      }
    },
    {
      "cell_type": "code",
      "source": [
        "class LandscapeProfile:\n",
        "    def __init__(self, elevations):\n",
        "        self.elevations = elevations\n",
        "\n",
        "    def max_elevation(self):\n",
        "        return max(self.elevations)\n",
        "\n",
        "    def min_elevation(self):\n",
        "        return min(self.elevations)\n",
        "\n",
        "    def elevation_difference(self):\n",
        "        return max(self.elevations) - min(self.elevations)\n",
        "\n",
        "    def total_elevation_difference(self):\n",
        "        return sum(abs(self.elevations[i] - self.elevations[i+1]) for i in range(len(self.elevations)-1))\n",
        "\n",
        "    def steepest_slope(self):\n",
        "        slopes = [abs((self.elevations[i+1] - self.elevations[i]) / 1) for i in range(len(self.elevations)-1)]\n",
        "        return max(slopes)\n",
        "\n",
        "    def average_slope(self):\n",
        "        slopes = [abs((self.elevations[i+1] - self.elevations[i]) / 1) for i in range(len(self.elevations)-1)]\n",
        "        return sum(slopes) / len(slopes)\n",
        "\n",
        "    def compare_elevation_difference(self, other_profile):\n",
        "        return self.elevation_difference() - other_profile.elevation_difference()\n",
        "\n",
        "    def compare_slope(self, other_profile):\n",
        "        return self.average_slope() - other_profile.average_slope()\n",
        "\n",
        "profile1 = LandscapeProfile([10, 20, 30, 40, 50])\n",
        "profile2 = LandscapeProfile([15, 25, 35, 45, 55])\n",
        "\n",
        "print(\"Max elevation:\", profile1.max_elevation())  # Выводит: 50\n",
        "print(\"Min elevation:\", profile1.min_elevation())  # Выводит: 10\n",
        "print(\"Elevation difference:\", profile1.elevation_difference())  # Выводит: 40\n",
        "print(\"Total elevation difference:\", profile1.total_elevation_difference())  # Выводит: 40\n",
        "print(\"Steepest slope:\", profile1.steepest_slope())  # Выводит: 10.0\n",
        "print(\"Average slope:\", profile1.average_slope())  # Выводит: 10.0\n",
        "\n",
        "print(\"Compare elevation difference:\", profile1.compare_elevation_difference(profile2))  # Выводит: 0\n",
        "print(\"Compare slope:\", profile1.compare_slope(profile2))  # Выводит: 0.0\n"
      ],
      "metadata": {
        "colab": {
          "base_uri": "https://localhost:8080/"
        },
        "id": "cgm1NtaZUH5p",
        "outputId": "36081413-05d3-4792-bd9b-d64c08aa1881"
      },
      "execution_count": null,
      "outputs": [
        {
          "output_type": "stream",
          "name": "stdout",
          "text": [
            "Max elevation: 50\n",
            "Min elevation: 10\n",
            "Elevation difference: 40\n",
            "Total elevation difference: 40\n",
            "Steepest slope: 10.0\n",
            "Average slope: 10.0\n",
            "Compare elevation difference: 0\n",
            "Compare slope: 0.0\n"
          ]
        }
      ]
    },
    {
      "cell_type": "markdown",
      "source": [
        "49. Дан список целых чисел. При помощи механизма map/filter/reduce\n",
        "рассчитать разность со значением 10 для каждого из чисел списка и\n",
        "получить сумму тех значений, величина которых меньше 0. (20 баллов)"
      ],
      "metadata": {
        "id": "xgfC9atoTzfO"
      }
    },
    {
      "cell_type": "code",
      "source": [
        "from functools import reduce\n",
        "\n",
        "def calculate_difference_and_sum(numbers):\n",
        "    difference = list(map(lambda x: x - 10, numbers))\n",
        "    filtered_values = list(filter(lambda x: x < 0, difference))\n",
        "    result = reduce(lambda x, y: x + y, filtered_values, 0)\n",
        "    return result\n",
        "\n",
        "\n",
        "# Пример использования\n",
        "numbers = [15, 6, 12, 3, 8, 11]\n",
        "sum_of_negative_values = calculate_difference_and_sum(numbers)\n",
        "print(\"Сумма значений, меньших 0:\", sum_of_negative_values)\n"
      ],
      "metadata": {
        "colab": {
          "base_uri": "https://localhost:8080/"
        },
        "id": "cImy_kIYTzO3",
        "outputId": "6de50e98-9679-49e1-b619-cd8376a03067"
      },
      "execution_count": null,
      "outputs": [
        {
          "output_type": "stream",
          "name": "stdout",
          "text": [
            "Сумма значений, меньших 0: -13\n"
          ]
        }
      ]
    },
    {
      "cell_type": "markdown",
      "source": [
        "50. Реализовать двоичное дерево в виде связанных объектов (реализовать\n",
        "класс для элементов двоичного дерева) и реализовать симметричную\n",
        "процедуру обхода двоичного дерева в виде рекурсивной функции. (20\n",
        "баллов)\n"
      ],
      "metadata": {
        "id": "szeH0_2PR298"
      }
    },
    {
      "cell_type": "code",
      "source": [
        "class Node:\n",
        "    def __init__(self, value):\n",
        "        self.value = value\n",
        "        self.left = None\n",
        "        self.right = None\n",
        "\n",
        "\n",
        "def inorder_traversal(node):\n",
        "    if node is not None:\n",
        "        inorder_traversal(node.left)\n",
        "        print(node.value, end=\" \")\n",
        "        inorder_traversal(node.right)\n",
        "\n",
        "\n",
        "# Создание двоичного дерева\n",
        "root = Node(1)\n",
        "root.left = Node(2)\n",
        "root.right = Node(3)\n",
        "root.left.left = Node(4)\n",
        "root.left.right = Node(5)\n",
        "\n",
        "# Симметричный обход (in-order traversal)\n",
        "print(\"Симметричный обход:\")\n",
        "inorder_traversal(root)\n"
      ],
      "metadata": {
        "colab": {
          "base_uri": "https://localhost:8080/"
        },
        "id": "8bzSZwzYR2vu",
        "outputId": "c3a31e85-33ee-45b7-c4d4-80a08061a7d8"
      },
      "execution_count": null,
      "outputs": [
        {
          "output_type": "stream",
          "name": "stdout",
          "text": [
            "Симметричный обход:\n",
            "4 2 5 1 3 "
          ]
        }
      ]
    },
    {
      "cell_type": "markdown",
      "source": [
        "51. В одномерном массиве целых чисел найти количество пар элементов\n",
        "разного знака. (пара — это два рядом стоящих элемента). (20 баллов)\n"
      ],
      "metadata": {
        "id": "mEpE9oY2QoVG"
      }
    },
    {
      "cell_type": "code",
      "source": [
        "def count_opposite_sign_pairs(array):\n",
        "    count = 0\n",
        "    n = len(array)\n",
        "\n",
        "    for i in range(n - 1):\n",
        "        if array[i] * array[i+1] < 0:\n",
        "            count += 1\n",
        "\n",
        "    return count\n",
        "\n",
        "\n",
        "# Пример использования\n",
        "arr = [-2, 3, -5, 6, -8, -1, 0]\n",
        "pairs = count_opposite_sign_pairs(arr)\n",
        "print(\"Количество пар элементов разного знака:\", pairs)\n"
      ],
      "metadata": {
        "colab": {
          "base_uri": "https://localhost:8080/"
        },
        "id": "cx7xuLcFQoE0",
        "outputId": "fd8eb4a8-97aa-4bcf-8100-60dac2dae6a3"
      },
      "execution_count": null,
      "outputs": [
        {
          "output_type": "stream",
          "name": "stdout",
          "text": [
            "Количество пар элементов разного знака: 4\n"
          ]
        }
      ]
    },
    {
      "cell_type": "markdown",
      "source": [
        "52. Задание: построить базовый класс с указанными в таблице полями и\n",
        "методами:\n",
        "- конструктор; - функция, которая определяет «качество» объекта – Q по\n",
        "заданной формуле; - метод вывода информации об объекте.\n",
        "Построить дочерний класс (класс-потомок), который содержит:\n",
        "- дополнительное поле P;\n",
        "- функция, которая определяет «качество» объекта дочернего класса – Qp\n",
        "и перегружает функцию качества родительского класса (Q), выполняя\n",
        "вычисление по новой формуле.\n",
        "Создать проект для демонстрации работы: ввод и вывод информации об\n",
        "объектах классов. (20 баллов)"
      ],
      "metadata": {
        "id": "ngziwj_UPnpS"
      }
    },
    {
      "cell_type": "code",
      "source": [
        "class Computer:\n",
        "    def __init__(self, processor, frequency, memory):\n",
        "        self.processor = processor\n",
        "        self.frequency = frequency\n",
        "        self.memory = memory\n",
        "\n",
        "    def calculate_quality(self):\n",
        "        # Формула для расчета качества (Q) базового класса\n",
        "        q = 0.1 * self.frequency + self.memory\n",
        "        return q\n",
        "\n",
        "    def display_info(self):\n",
        "        print(\"Processor:\", self.processor)\n",
        "        print(\"Frequency (MHz):\", self.frequency)\n",
        "        print(\"Memory (MB):\", self.memory)\n",
        "        print()\n",
        "\n",
        "\n",
        "class ComputerWithSSD(Computer):\n",
        "    def __init__(self, processor, frequency, memory, ssd_capacity):\n",
        "        super().__init__(processor, frequency, memory)\n",
        "        self.ssd_capacity = ssd_capacity\n",
        "\n",
        "    def calculate_quality(self):\n",
        "        # Формула для расчета качества (Qp) дочернего класса\n",
        "        q = super().calculate_quality()\n",
        "        qp = q + 0.5 * self.ssd_capacity\n",
        "        return qp\n",
        "\n",
        "\n",
        "# Создание объектов классов и демонстрация работы\n",
        "computer1 = Computer(\"Intel i5\", 2500, 8192)\n",
        "computer2 = ComputerWithSSD(\"AMD Ryzen 7\", 3500, 16384, 512)\n",
        "\n",
        "quality1 = computer1.calculate_quality()\n",
        "quality2 = computer2.calculate_quality()\n",
        "\n",
        "print(\"Computer 1:\")\n",
        "computer1.display_info()\n",
        "print(\"Quality (Computer 1):\", quality1)\n",
        "print()\n",
        "\n",
        "print(\"Computer 2:\")\n",
        "computer2.display_info()\n",
        "print(\"Quality (Computer 2):\", quality2)\n"
      ],
      "metadata": {
        "colab": {
          "base_uri": "https://localhost:8080/"
        },
        "id": "Na74bmCrPnUu",
        "outputId": "cd422c4c-2be5-4fb4-b3bd-4575236aa30c"
      },
      "execution_count": null,
      "outputs": [
        {
          "output_type": "stream",
          "name": "stdout",
          "text": [
            "Computer 1:\n",
            "Processor: Intel i5\n",
            "Frequency (MHz): 2500\n",
            "Memory (MB): 8192\n",
            "\n",
            "Quality (Computer 1): 8442.0\n",
            "\n",
            "Computer 2:\n",
            "Processor: AMD Ryzen 7\n",
            "Frequency (MHz): 3500\n",
            "Memory (MB): 16384\n",
            "\n",
            "Quality (Computer 2): 16990.0\n"
          ]
        }
      ]
    },
    {
      "cell_type": "markdown",
      "source": [
        "53. Создать иерархию классов для фруктов, продающихся в магазине.\n",
        "Иерархия должна содержать не менее 3 классов. Объекты должны\n",
        "содержать не менее 2-х атрибутов и 2-х методов. Реализовать механизм\n",
        "автоматического подсчета количества всех созданных фруктов и\n",
        "автоматического присвоения каждому фрукту уникального\n",
        "идентификатора. Необходимо заполнить список представителями всех\n",
        "\n",
        "классов (всего не менее 5 объектов) и продемонстрировать работу\n",
        "созданного механизма. (20 баллов)"
      ],
      "metadata": {
        "id": "890xWvcrONyF"
      }
    },
    {
      "cell_type": "code",
      "source": [
        "class Fruit:\n",
        "    total_fruits = 0\n",
        "\n",
        "    def __init__(self, name, color):\n",
        "        self.name = name\n",
        "        self.color = color\n",
        "        self.id = Fruit.total_fruits\n",
        "        Fruit.total_fruits += 1\n",
        "\n",
        "    def display_info(self):\n",
        "        print(\"Fruit Name:\", self.name)\n",
        "        print(\"Color:\", self.color)\n",
        "        print(\"ID:\", self.id)\n",
        "        print()\n",
        "\n",
        "\n",
        "class Apple(Fruit):\n",
        "    def __init__(self, color):\n",
        "        super().__init__(\"Apple\", color)\n",
        "\n",
        "    def eat(self):\n",
        "        print(\"Eating an apple...\")\n",
        "        print(\"Yummy!\")\n",
        "        print()\n",
        "\n",
        "\n",
        "class Banana(Fruit):\n",
        "    def __init__(self, color):\n",
        "        super().__init__(\"Banana\", color)\n",
        "\n",
        "    def peel(self):\n",
        "        print(\"Peeling a banana...\")\n",
        "        print(\"Ready to eat!\")\n",
        "        print()\n",
        "\n",
        "\n",
        "class Orange(Fruit):\n",
        "    def __init__(self, color):\n",
        "        super().__init__(\"Orange\", color)\n",
        "\n",
        "    def squeeze(self):\n",
        "        print(\"Squeezing an orange...\")\n",
        "        print(\"Fresh juice!\")\n",
        "        print()\n",
        "\n",
        "\n",
        "# Создание объектов фруктов\n",
        "fruits = [\n",
        "    Apple(\"Red\"),\n",
        "    Banana(\"Yellow\"),\n",
        "    Orange(\"Orange\"),\n",
        "    Apple(\"Green\"),\n",
        "    Banana(\"Green\")\n",
        "]\n",
        "\n",
        "# Вывод информации о фруктах и проверка их уникальных идентификаторов\n",
        "for fruit in fruits:\n",
        "    fruit.display_info()\n"
      ],
      "metadata": {
        "colab": {
          "base_uri": "https://localhost:8080/"
        },
        "id": "kk_GJgfWONaM",
        "outputId": "227da031-bb23-416b-c384-eca0f0a3df8a"
      },
      "execution_count": null,
      "outputs": [
        {
          "output_type": "stream",
          "name": "stdout",
          "text": [
            "Fruit Name: Apple\n",
            "Color: Red\n",
            "ID: 0\n",
            "\n",
            "Fruit Name: Banana\n",
            "Color: хуй\n",
            "ID: 1\n",
            "\n",
            "Fruit Name: Orange\n",
            "Color: Orange\n",
            "ID: 2\n",
            "\n",
            "Fruit Name: Apple\n",
            "Color: Green\n",
            "ID: 3\n",
            "\n",
            "Fruit Name: Banana\n",
            "Color: Green\n",
            "ID: 4\n",
            "\n"
          ]
        }
      ]
    },
    {
      "cell_type": "markdown",
      "source": [
        "54. Дано предложение без знаков препинания. Превратить предложение в\n",
        "список слов. При помощи механизма map/filter/reduce найти\n",
        "количество слов, длина которых больше 4 и склеить их в одну строку\n",
        "(20 баллов)"
      ],
      "metadata": {
        "id": "JKTKIkL2KMjD"
      }
    },
    {
      "cell_type": "code",
      "source": [
        "from functools import reduce\n",
        "\n",
        "def concatenate_words(sentence):\n",
        "    words = sentence.split()  # Разбиваем предложение на список слов\n",
        "\n",
        "    # Фильтруем слова по длине больше 4 и объединяем их в одну строку\n",
        "    result = reduce(lambda x, y: x + ' ' + y, filter(lambda w: len(w) > 4, words))\n",
        "\n",
        "    return result\n",
        "\n",
        "# Пример использования\n",
        "sentence = \"Дано предложение без знаков препинания\"\n",
        "concatenated_words = concatenate_words(sentence)\n",
        "print(\"Результат: \", concatenated_words)\n"
      ],
      "metadata": {
        "colab": {
          "base_uri": "https://localhost:8080/"
        },
        "id": "_OW7RNeuKt5F",
        "outputId": "bf67690b-ca53-4145-c1b9-4911777a1a8f"
      },
      "execution_count": null,
      "outputs": [
        {
          "output_type": "stream",
          "name": "stdout",
          "text": [
            "Результат:  предложение знаков препинания\n"
          ]
        }
      ]
    },
    {
      "cell_type": "markdown",
      "source": [
        "55. В одномерном массиве (array) целых чисел найти количество пар\n",
        "модуль разности элементов которых, больше 10. (пара — это два рядом\n",
        "стоящих элемента). (20 баллов)"
      ],
      "metadata": {
        "id": "jmGd9Pt0I0v6"
      }
    },
    {
      "cell_type": "code",
      "source": [
        "def count_pairs(arr):\n",
        "    count = 0\n",
        "    n = len(arr)\n",
        "\n",
        "    for i in range(n - 1):\n",
        "        if abs(arr[i] - arr[i+1]) > 10:\n",
        "            count += 1\n",
        "\n",
        "    return count\n",
        "\n",
        "# Пример использования\n",
        "array = [1, 15, 8, 25, 12, 5]\n",
        "pairs_count = count_pairs(array)\n",
        "print(\"Количество пар: \", pairs_count)\n"
      ],
      "metadata": {
        "colab": {
          "base_uri": "https://localhost:8080/"
        },
        "id": "QWee49wuI0gN",
        "outputId": "b22244b7-cdc8-4f50-b368-49dd59813bbb"
      },
      "execution_count": null,
      "outputs": [
        {
          "output_type": "stream",
          "name": "stdout",
          "text": [
            "Количество пар:  3\n"
          ]
        }
      ]
    },
    {
      "cell_type": "markdown",
      "source": [
        "56. Реализовать функцию st_reverse(a_string), которая при помощи стека\n",
        "инвертирует строку (меняет порядок букв на обратный). Пример:\n",
        "st_reverse(‘abcd’) -&gt; ‘dcba’. (20 баллов)"
      ],
      "metadata": {
        "id": "M9Sih3oIGPsk"
      }
    },
    {
      "cell_type": "code",
      "source": [
        "def st_reverse(a_string):\n",
        "    stack = []\n",
        "\n",
        "    # Помещаем каждый символ строки в стек\n",
        "    for char in a_string:\n",
        "        stack.append(char)\n",
        "\n",
        "    reversed_string = \"\"\n",
        "\n",
        "    # Извлекаем символы из стека в обратном порядке\n",
        "    while len(stack) > 0:\n",
        "        reversed_string += stack.pop()\n",
        "\n",
        "    return reversed_string\n",
        "\n",
        "input_string = \"abcd\"\n",
        "reversed_string = st_reverse(input_string)\n",
        "print(reversed_string)"
      ],
      "metadata": {
        "colab": {
          "base_uri": "https://localhost:8080/"
        },
        "id": "quGF4Um6GV2G",
        "outputId": "5b1fbdb0-8473-40ed-c11d-b65a4efb96f1"
      },
      "execution_count": null,
      "outputs": [
        {
          "output_type": "stream",
          "name": "stdout",
          "text": [
            "dcba\n"
          ]
        }
      ]
    },
    {
      "cell_type": "markdown",
      "source": [
        "57. Дан двунаправленный связный список. Вставить элемент после n-го\n",
        "элемента списка. (20 баллов)"
      ],
      "metadata": {
        "id": "Bdzs2xzxDxqI"
      }
    },
    {
      "cell_type": "code",
      "source": [
        "class Node:\n",
        "    def __init__(self, data):\n",
        "        self.data = data\n",
        "        self.prev = None\n",
        "        self.next = None\n",
        "\n",
        "\n",
        "class DoublyLinkedList:\n",
        "    def __init__(self):\n",
        "        self.head = None\n",
        "        self.tail = None\n",
        "\n",
        "    def append(self, data):\n",
        "        new_node = Node(data)\n",
        "        if self.head is None:\n",
        "            self.head = new_node\n",
        "            self.tail = new_node\n",
        "        else:\n",
        "            new_node.prev = self.tail\n",
        "            self.tail.next = new_node\n",
        "            self.tail = new_node\n",
        "\n",
        "    def print_list(self):\n",
        "        current = self.head\n",
        "        while current is not None:\n",
        "            print(current.data, end=\" \")\n",
        "            current = current.next\n",
        "        print()\n",
        "\n",
        "\n",
        "# Пример использования\n",
        "linked_list = DoublyLinkedList()\n",
        "linked_list.append(1)\n",
        "linked_list.append(2)\n",
        "linked_list.append(3)\n",
        "linked_list.append(4)\n",
        "linked_list.append(5)\n",
        "\n",
        "print(\"Исходный список:\")\n",
        "linked_list.print_list()\n",
        "\n",
        "n = input()\n",
        "while (n != \"over\"):\n",
        "    linked_list.append(n)\n",
        "    print(\"Список после добавления элемента:\")\n",
        "    linked_list.print_list()\n",
        "    n = input()"
      ],
      "metadata": {
        "colab": {
          "base_uri": "https://localhost:8080/"
        },
        "id": "rYXzfVeTD013",
        "outputId": "c1ee1b92-362b-4e1a-ca13-8edd07dc0bb0"
      },
      "execution_count": null,
      "outputs": [
        {
          "name": "stdout",
          "output_type": "stream",
          "text": [
            "Исходный список:\n",
            "1 2 3 4 5 \n",
            "хуй\n"
          ]
        }
      ]
    },
    {
      "cell_type": "markdown",
      "source": [
        "58. Дан двунаправленный связный список. Удалить n-ый элемент списка.\n",
        "(20 баллов)\n"
      ],
      "metadata": {
        "id": "kjb2RqmXDrli"
      }
    },
    {
      "cell_type": "code",
      "execution_count": null,
      "metadata": {
        "id": "Nm1zl4qUH_Oc",
        "colab": {
          "base_uri": "https://localhost:8080/",
          "height": 485
        },
        "outputId": "35b7e748-a205-4961-b827-a8f7058ae99b"
      },
      "outputs": [
        {
          "output_type": "stream",
          "name": "stdout",
          "text": [
            "Исходный список:\n",
            "1 2 3 4 5 \n",
            "1\n",
            "Элемент успешно удален.\n",
            "Элемент успешно удален.\n",
            "Список после удаления 1 -го элемента:\n",
            "3 4 5 \n"
          ]
        },
        {
          "output_type": "error",
          "ename": "KeyboardInterrupt",
          "evalue": "ignored",
          "traceback": [
            "\u001b[0;31m---------------------------------------------------------------------------\u001b[0m",
            "\u001b[0;31mKeyboardInterrupt\u001b[0m                         Traceback (most recent call last)",
            "\u001b[0;32m<ipython-input-9-f4307459ec18>\u001b[0m in \u001b[0;36m<cell line: 75>\u001b[0;34m()\u001b[0m\n\u001b[1;32m     77\u001b[0m     \u001b[0mprint\u001b[0m\u001b[0;34m(\u001b[0m\u001b[0;34m\"Список после удаления\"\u001b[0m\u001b[0;34m,\u001b[0m \u001b[0mn\u001b[0m\u001b[0;34m,\u001b[0m \u001b[0;34m\"-го элемента:\"\u001b[0m\u001b[0;34m)\u001b[0m\u001b[0;34m\u001b[0m\u001b[0;34m\u001b[0m\u001b[0m\n\u001b[1;32m     78\u001b[0m     \u001b[0mlinked_list\u001b[0m\u001b[0;34m.\u001b[0m\u001b[0mprint_list\u001b[0m\u001b[0;34m(\u001b[0m\u001b[0;34m)\u001b[0m\u001b[0;34m\u001b[0m\u001b[0;34m\u001b[0m\u001b[0m\n\u001b[0;32m---> 79\u001b[0;31m     \u001b[0mn\u001b[0m \u001b[0;34m=\u001b[0m \u001b[0mint\u001b[0m\u001b[0;34m(\u001b[0m\u001b[0minput\u001b[0m\u001b[0;34m(\u001b[0m\u001b[0;34m)\u001b[0m\u001b[0;34m)\u001b[0m\u001b[0;34m\u001b[0m\u001b[0;34m\u001b[0m\u001b[0m\n\u001b[0m\u001b[1;32m     80\u001b[0m \u001b[0;34m\u001b[0m\u001b[0m\n",
            "\u001b[0;32m/usr/local/lib/python3.10/dist-packages/ipykernel/kernelbase.py\u001b[0m in \u001b[0;36mraw_input\u001b[0;34m(self, prompt)\u001b[0m\n\u001b[1;32m    849\u001b[0m                 \u001b[0;34m\"raw_input was called, but this frontend does not support input requests.\"\u001b[0m\u001b[0;34m\u001b[0m\u001b[0;34m\u001b[0m\u001b[0m\n\u001b[1;32m    850\u001b[0m             )\n\u001b[0;32m--> 851\u001b[0;31m         return self._input_request(str(prompt),\n\u001b[0m\u001b[1;32m    852\u001b[0m             \u001b[0mself\u001b[0m\u001b[0;34m.\u001b[0m\u001b[0m_parent_ident\u001b[0m\u001b[0;34m,\u001b[0m\u001b[0;34m\u001b[0m\u001b[0;34m\u001b[0m\u001b[0m\n\u001b[1;32m    853\u001b[0m             \u001b[0mself\u001b[0m\u001b[0;34m.\u001b[0m\u001b[0m_parent_header\u001b[0m\u001b[0;34m,\u001b[0m\u001b[0;34m\u001b[0m\u001b[0;34m\u001b[0m\u001b[0m\n",
            "\u001b[0;32m/usr/local/lib/python3.10/dist-packages/ipykernel/kernelbase.py\u001b[0m in \u001b[0;36m_input_request\u001b[0;34m(self, prompt, ident, parent, password)\u001b[0m\n\u001b[1;32m    893\u001b[0m             \u001b[0;32mexcept\u001b[0m \u001b[0mKeyboardInterrupt\u001b[0m\u001b[0;34m:\u001b[0m\u001b[0;34m\u001b[0m\u001b[0;34m\u001b[0m\u001b[0m\n\u001b[1;32m    894\u001b[0m                 \u001b[0;31m# re-raise KeyboardInterrupt, to truncate traceback\u001b[0m\u001b[0;34m\u001b[0m\u001b[0;34m\u001b[0m\u001b[0m\n\u001b[0;32m--> 895\u001b[0;31m                 \u001b[0;32mraise\u001b[0m \u001b[0mKeyboardInterrupt\u001b[0m\u001b[0;34m(\u001b[0m\u001b[0;34m\"Interrupted by user\"\u001b[0m\u001b[0;34m)\u001b[0m \u001b[0;32mfrom\u001b[0m \u001b[0;32mNone\u001b[0m\u001b[0;34m\u001b[0m\u001b[0;34m\u001b[0m\u001b[0m\n\u001b[0m\u001b[1;32m    896\u001b[0m             \u001b[0;32mexcept\u001b[0m \u001b[0mException\u001b[0m \u001b[0;32mas\u001b[0m \u001b[0me\u001b[0m\u001b[0;34m:\u001b[0m\u001b[0;34m\u001b[0m\u001b[0;34m\u001b[0m\u001b[0m\n\u001b[1;32m    897\u001b[0m                 \u001b[0mself\u001b[0m\u001b[0;34m.\u001b[0m\u001b[0mlog\u001b[0m\u001b[0;34m.\u001b[0m\u001b[0mwarning\u001b[0m\u001b[0;34m(\u001b[0m\u001b[0;34m\"Invalid Message:\"\u001b[0m\u001b[0;34m,\u001b[0m \u001b[0mexc_info\u001b[0m\u001b[0;34m=\u001b[0m\u001b[0;32mTrue\u001b[0m\u001b[0;34m)\u001b[0m\u001b[0;34m\u001b[0m\u001b[0;34m\u001b[0m\u001b[0m\n",
            "\u001b[0;31mKeyboardInterrupt\u001b[0m: Interrupted by user"
          ]
        }
      ],
      "source": [
        "class Node:\n",
        "    def __init__(self, data):\n",
        "        self.data = data\n",
        "        self.prev = None\n",
        "        self.next = None\n",
        "\n",
        "\n",
        "class DoublyLinkedList:\n",
        "    def __init__(self):\n",
        "        self.head = None\n",
        "        self.tail = None\n",
        "\n",
        "    def append(self, data):\n",
        "        new_node = Node(data)\n",
        "        if self.head is None:\n",
        "            self.head = new_node\n",
        "            self.tail = new_node\n",
        "        else:\n",
        "            new_node.prev = self.tail\n",
        "            self.tail.next = new_node\n",
        "            self.tail = new_node\n",
        "\n",
        "    def delete_node(self, n):\n",
        "        if self.head is None:\n",
        "            print(\"Список пуст.\")\n",
        "\n",
        "            return\n",
        "\n",
        "        current = self.head\n",
        "        count = 1\n",
        "\n",
        "        while current is not None:\n",
        "            if count == n:\n",
        "                if current.prev is None:\n",
        "                    # Удаляемый элемент является первым элементом списка\n",
        "                    self.head = current.next\n",
        "                    if self.head is not None:\n",
        "                        self.head.prev = None\n",
        "                elif current.next is None:\n",
        "                    # Удаляемый элемент является последним элементом списка\n",
        "                    current.prev.next = None\n",
        "                    self.tail = current.prev\n",
        "                else:\n",
        "                    # Удаляемый элемент находится где-то в середине списка\n",
        "                    current.prev.next = current.next\n",
        "                    current.next.prev = current.prev\n",
        "                del current\n",
        "                print(\"Элемент успешно удален.\")\n",
        "                return\n",
        "            current = current.next\n",
        "            count += 1\n",
        "\n",
        "        print(\"Неверный индекс.\")\n",
        "\n",
        "    def print_list(self):\n",
        "        current = self.head\n",
        "        while current is not None:\n",
        "            print(current.data, end=\" \")\n",
        "            current = current.next\n",
        "        print()\n",
        "\n",
        "\n",
        "# Пример использования\n",
        "linked_list = DoublyLinkedList()\n",
        "linked_list.append(1)\n",
        "linked_list.append(2)\n",
        "linked_list.append(3)\n",
        "linked_list.append(4)\n",
        "linked_list.append(5)\n",
        "\n",
        "print(\"Исходный список:\")\n",
        "linked_list.print_list()\n",
        "\n",
        "n = int(input())\n",
        "while (n != -1):\n",
        "    linked_list.delete_node(n)\n",
        "    print(\"Список после удаления\", n, \"-го элемента:\")\n",
        "    linked_list.print_list()\n",
        "    n = int(input())\n",
        "\n"
      ]
    }
  ]
}