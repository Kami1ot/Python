{
  "nbformat": 4,
  "nbformat_minor": 0,
  "metadata": {
    "colab": {
      "provenance": []
    },
    "kernelspec": {
      "name": "python3",
      "display_name": "Python 3"
    },
    "language_info": {
      "name": "python"
    }
  },
  "cells": [
    {
      "cell_type": "markdown",
      "source": [
        "2. Дан однонаправленный связный список. Вставить элемент после n-го элемента списка."
      ],
      "metadata": {
        "id": "Xhx9LasqvKya"
      }
    },
    {
      "cell_type": "code",
      "execution_count": null,
      "metadata": {
        "id": "NYFhx12qvGTX",
        "colab": {
          "base_uri": "https://localhost:8080/"
        },
        "outputId": "8e0bb67a-f4d3-4a2c-c845-8df872c0c2ef"
      },
      "outputs": [
        {
          "output_type": "stream",
          "name": "stdout",
          "text": [
            "1 -> 2 -> 3 -> 5 -> 4 -> None\n"
          ]
        }
      ],
      "source": [
        "class Node:\n",
        "    def __init__(self, value):\n",
        "        self.value = value\n",
        "        self.next = None\n",
        "\n",
        "\n",
        "def insert_after_n(head, n, value):\n",
        "    new_node = Node(value)\n",
        "    current = head\n",
        "\n",
        "    # Переходим к n-му элементу\n",
        "    for _ in range(n):\n",
        "        if current is None:\n",
        "            return  # n превышает длину списка\n",
        "        current = current.next\n",
        "\n",
        "    if current is None:\n",
        "        return  # n указывает на последний элемент списка\n",
        "\n",
        "    # Вставка нового узла\n",
        "    new_node.next = current.next\n",
        "    current.next = new_node\n",
        "\n",
        "\n",
        "# Пример использования\n",
        "# Создание списка: 1 -> 2 -> 3 -> 4 -> None\n",
        "head = Node(1)\n",
        "node2 = Node(2)\n",
        "node3 = Node(3)\n",
        "node4 = Node(4)\n",
        "\n",
        "head.next = node2\n",
        "node2.next = node3\n",
        "node3.next = node4\n",
        "\n",
        "# Вставка значения 5 после 2-го элемента\n",
        "insert_after_n(head, 2, 5)\n",
        "\n",
        "# Результат: 1 -> 2 -> 5 -> 3 -> 4 -> None\n",
        "\n",
        "# Проверка результата\n",
        "current = head\n",
        "while current is not None:\n",
        "    print(current.value, end=\" -> \")\n",
        "    current = current.next\n",
        "print(\"None\")"
      ]
    },
    {
      "cell_type": "markdown",
      "source": [
        "3. Создать декоратор tol(len,fill). Превращает результат декорируемой функции в список состоящий из len эдлементов. Если меньше то оставшиеся места заполняются значениеми fill. Если больше то невошедший конец отбрасывается."
      ],
      "metadata": {
        "id": "SD_XfDQIvgt2"
      }
    },
    {
      "cell_type": "code",
      "source": [
        "def tol(length, fill):\n",
        "    def decorator(func):\n",
        "        def wrapper(*args, **kwargs):\n",
        "            result = func(*args, **kwargs)\n",
        "\n",
        "            if len(result) < length:\n",
        "                result += [fill] * (length - len(result))\n",
        "            elif len(result) > length:\n",
        "                result = result[:length]\n",
        "\n",
        "            return result\n",
        "\n",
        "        return wrapper\n",
        "\n",
        "    return decorator\n",
        "\n",
        "@tol(5, 0)  # Декорирование функции с параметрами length=5 и fill=0\n",
        "def calculate():\n",
        "    return [1, 2, 3]\n",
        "\n",
        "result = calculate()\n",
        "print(result)  # [1, 2, 3, 0, 0]\n"
      ],
      "metadata": {
        "colab": {
          "base_uri": "https://localhost:8080/"
        },
        "id": "piuxWUMdwReb",
        "outputId": "a4653997-4270-4663-896d-7b31eee2ac75"
      },
      "execution_count": null,
      "outputs": [
        {
          "output_type": "stream",
          "name": "stdout",
          "text": [
            "[1, 2, 3, 0, 0]\n"
          ]
        }
      ]
    }
  ]
}